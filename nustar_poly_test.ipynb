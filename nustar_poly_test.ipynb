{
 "cells": [
  {
   "cell_type": "code",
   "execution_count": 1,
   "metadata": {
    "collapsed": false
   },
   "outputs": [],
   "source": [
    "from ContNoRegret.Domains import nBox\n",
    "from ContNoRegret.LossFunctions import PolynomialLossFunction\n",
    "from ContNoRegret.DualAveraging import ExponentialPotential, IdentityPotential, CompositeOmegaPotential\n",
    "from ContNoRegret.utils import nustar_polynomial\n",
    "import numpy as np\n",
    "import ctypes\n",
    "import matplotlib.pyplot as plt\n",
    "%matplotlib inline"
   ]
  },
  {
   "cell_type": "code",
   "execution_count": 2,
   "metadata": {
    "collapsed": false
   },
   "outputs": [],
   "source": [
    "dom = nBox([(0,1), (0,1)])\n",
    "Loss = PolynomialLossFunction(dom, [1, 2, 1], [(2,0), (1,1), (0,2)])\n",
    "Loss.set_bounds([0, 4])\n",
    "potential = CompositeOmegaPotential(gamma=3)\n",
    "eta = 0.1"
   ]
  },
  {
   "cell_type": "code",
   "execution_count": 11,
   "metadata": {
    "collapsed": false
   },
   "outputs": [
    {
     "name": "stdout",
     "output_type": "stream",
     "text": [
      "10 loops, best of 3: 63.9 ms per loop\n"
     ]
    }
   ],
   "source": [
    "%timeit nustar = nustar_polynomial(dom, potential, eta, Loss)"
   ]
  },
  {
   "cell_type": "code",
   "execution_count": 3,
   "metadata": {
    "collapsed": false
   },
   "outputs": [],
   "source": [
    "gammas = [1.25, 1.5, 1.75, 2, 2.5, 3, 3.5, 4]\n",
    "nustars = [nustar_polynomial(dom, CompositeOmegaPotential(gamma), eta, Loss) for gamma in gammas]"
   ]
  },
  {
   "cell_type": "code",
   "execution_count": 4,
   "metadata": {
    "collapsed": false
   },
   "outputs": [
    {
     "data": {
      "text/plain": [
       "[<matplotlib.lines.Line2D at 0x10c5d0710>]"
      ]
     },
     "execution_count": 4,
     "metadata": {},
     "output_type": "execute_result"
    },
    {
     "data": {
      "image/png": "[encoded data removed]",
      "text/plain": [
       "<matplotlib.figure.Figure at 0x108d20550>"
      ]
     },
     "metadata": {},
     "output_type": "display_data"
    }
   ],
   "source": [
    "plt.plot(gammas, nustars)"
   ]
  }
 ],
 "metadata": {
  "kernelspec": {
   "display_name": "Python 3",
   "language": "python",
   "name": "python3"
  },
  "language_info": {
   "codemirror_mode": {
    "name": "ipython",
    "version": 3
   },
   "file_extension": ".py",
   "mimetype": "text/x-python",
   "name": "python",
   "nbconvert_exporter": "python",
   "pygments_lexer": "ipython3",
   "version": "3.4.3"
  }
 },
 "nbformat": 4,
 "nbformat_minor": 0
}
