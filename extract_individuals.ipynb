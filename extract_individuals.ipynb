{
 "cells": [
  {
   "cell_type": "code",
   "execution_count": 11,
   "metadata": {
    "collapsed": false
   },
   "outputs": [],
   "source": [
    "import ContNoRegret\n",
    "from ContNoRegret.utils import plot_results, plot_dims, plot_u0s, plot_loglogs\n",
    "import matplotlib\n",
    "import matplotlib.pyplot as plt\n",
    "import pickle\n",
    "import os\n",
    "# %ls results"
   ]
  },
  {
   "cell_type": "markdown",
   "metadata": {},
   "source": [
    "# Comparison of Exp, pExp and ExpP"
   ]
  },
  {
   "cell_type": "code",
   "execution_count": 12,
   "metadata": {
    "collapsed": false
   },
   "outputs": [
    {
     "name": "stdout",
     "output_type": "stream",
     "text": [
      "['ExpPPot, $p={1.25}, gamma={1}$', 'pExpPot, $p={1.25}, gamma={1}$', 'ExpPot']\n"
     ]
    }
   ],
   "source": [
    "folder = '/Users/balandat/Documents/Code/Continuous_No-Regret/results/'\n",
    "file = '2015-05-25_19-27/NIPS2_CNR_pexp_comparison_Quadratic.piggl'\n",
    "with open(folder+file, 'rb') as f:\n",
    "    results = pickle.load(f)\n",
    "results = {r.label : r for r in results}\n",
    "print(list(results.keys()))"
   ]
  },
  {
   "cell_type": "code",
   "execution_count": 13,
   "metadata": {
    "collapsed": false
   },
   "outputs": [],
   "source": [
    "results = [{key:res for key,res in results.items() if 'p={1.25}' in key},\n",
    "           {key:res for key,res in results.items() if 'p={1.5}' in key},\n",
    "           {key:res for key,res in results.items() if 'p={1.75}' in key}]"
   ]
  },
  {
   "cell_type": "code",
   "execution_count": 14,
   "metadata": {
    "collapsed": false
   },
   "outputs": [
    {
     "data": {
      "text/plain": [
       "[{'ExpPPot, $p={1.25}, gamma={1}$': <ContNoRegret.NoRegretAlgos.Results at 0x10f348828>,\n",
       "  'pExpPot, $p={1.25}, gamma={1}$': <ContNoRegret.NoRegretAlgos.Results at 0x10f334ac8>},\n",
       " {},\n",
       " {}]"
      ]
     },
     "execution_count": 14,
     "metadata": {},
     "output_type": "execute_result"
    }
   ],
   "source": [
    "results"
   ]
  },
  {
   "cell_type": "code",
   "execution_count": 23,
   "metadata": {
    "collapsed": false
   },
   "outputs": [],
   "source": [
    "plot_u0s([list(results[0].values())])"
   ]
  },
  {
   "cell_type": "code",
   "execution_count": 22,
   "metadata": {
    "collapsed": false
   },
   "outputs": [],
   "source": [
    "r = results[0]['ExpPPot, $p={1.25}, gamma={1}$']\n",
    "plt.plot(results[0]['ExpPPot, $p={1.25}, gamma={1}$'].regs_norate['tsavg'][0])\n",
    "plt.show()"
   ]
  },
  {
   "cell_type": "code",
   "execution_count": 21,
   "metadata": {
    "collapsed": false
   },
   "outputs": [
    {
     "data": {
      "text/plain": [
       "[array([ 0.16441734,  0.22003532,  0.25770392,  0.26579972,  0.25749239,\n",
       "         0.2624959 ,  0.26731117,  0.22550204,  0.22645624,  0.19233789,\n",
       "         0.21677409,  0.20142365,  0.19246936,  0.19764802,  0.20212465,\n",
       "         0.22056183,  0.21676303,  0.21683076,  0.21315424,  0.21083787,\n",
       "         0.21684714,  0.21810858,  0.21569216,  0.20726432,  0.20384204,\n",
       "         0.20375332,  0.20596423,  0.20634865,  0.19568461,  0.18954565,\n",
       "         0.19627462,  0.21118767,  0.20963607,  0.20415356,  0.19900896,\n",
       "         0.20042776,  0.19721241,  0.20106878,  0.19934444,  0.20330093,\n",
       "         0.20420078,  0.2117063 ,  0.20534034,  0.20349834,  0.20755449,\n",
       "         0.20506491,  0.20579391,  0.20613776,  0.20774476,  0.21925032])]"
      ]
     },
     "execution_count": 21,
     "metadata": {},
     "output_type": "execute_result"
    }
   ],
   "source": [
    "r.regs_norate['tsavg']"
   ]
  },
  {
   "cell_type": "code",
   "execution_count": 20,
   "metadata": {
    "collapsed": false
   },
   "outputs": [
    {
     "data": {
      "text/plain": [
       "-0.39902370409339366"
      ]
     },
     "execution_count": 20,
     "metadata": {},
     "output_type": "execute_result"
    }
   ],
   "source": [
    "r = results[0]['ExpPPot, $p={1.25}, gamma={10}$']\n",
    "r.slopes_bnd"
   ]
  },
  {
   "cell_type": "markdown",
   "metadata": {},
   "source": [
    "# Effect of u0"
   ]
  },
  {
   "cell_type": "code",
   "execution_count": 2,
   "metadata": {
    "collapsed": false
   },
   "outputs": [],
   "source": [
    "folder = '/Users/balandat/Documents/Code/Continuous_No-Regret/individ_results/u0_9/'\n",
    "# pots = ['pExpPot, $p={1.25}, ', 'pExpPot, $p={1.75}, ',\n",
    "#         'ExpPPot, $p={1.25}, ', 'ExpPPot, $p={1.75}, ']\n",
    "pots = ['pExpPot, $p={1.5}, ']\n",
    "# pots = ['ExpPot', 'pExpPot', 'ExpPPot', 'pNormPot']\n",
    "results = {pot:[] for pot in pots}\n",
    "for pot in pots:\n",
    "    for filename in os.listdir(folder):\n",
    "        if pot == filename[0:len(pot)]:\n",
    "            with open('{}{}'.format(folder, filename), 'rb') as f:\n",
    "                res = pickle.load(f)\n",
    "                res.label = res.label.replace('\\\\', '')\n",
    "                results[pot].append(res)"
   ]
  },
  {
   "cell_type": "code",
   "execution_count": 3,
   "metadata": {
    "collapsed": false
   },
   "outputs": [],
   "source": [
    "plot_u0s([results[pots[0]]])"
   ]
  },
  {
   "cell_type": "markdown",
   "metadata": {},
   "source": [
    "# Effect of the bounds on the norms"
   ]
  },
  {
   "cell_type": "code",
   "execution_count": 11,
   "metadata": {
    "collapsed": true
   },
   "outputs": [],
   "source": [
    "folder = '/Users/balandat/Documents/Code/Continuous_No-Regret/individ_results/norm/'\n",
    "names = ['norm_ExpPot_n3', 'norm_IdPot_n3', 'norm_pNormPot, $p={1.05}$_n3']\n",
    "results = {name:[] for name in names}"
   ]
  },
  {
   "cell_type": "code",
   "execution_count": 12,
   "metadata": {
    "collapsed": false
   },
   "outputs": [],
   "source": [
    "for name in names:\n",
    "    with open('{}{}.piggl'.format(folder, name), 'rb') as f:\n",
    "        results[name].append(pickle.load(f))"
   ]
  },
  {
   "cell_type": "code",
   "execution_count": 13,
   "metadata": {
    "collapsed": false
   },
   "outputs": [],
   "source": [
    "plot_u0s([results[name] for name in names], directory=folder, bounds=False)"
   ]
  },
  {
   "cell_type": "markdown",
   "metadata": {},
   "source": [
    "# Effect of the dimension n"
   ]
  },
  {
   "cell_type": "code",
   "execution_count": 34,
   "metadata": {
    "collapsed": true
   },
   "outputs": [],
   "source": [
    "folder = '/Users/balandat/Documents/Code/Continuous_No-Regret/individ_results/dimension'\n",
    "pots = ['ExpPot', 'pNormPot', 'FTAL', 'OGD', 'ONS', 'GP', 'EWOO']\n",
    "results = {pot:[] for pot in pots}\n",
    "for pot in pots:\n",
    "    for filename in os.listdir(folder):\n",
    "        if pot in filename:\n",
    "            with open('{}/{}'.format(folder, filename), 'rb') as f:\n",
    "                res = pickle.load(f)\n",
    "                res.label = filename.strip('piggl')\n",
    "                results[pot].append(res)"
   ]
  },
  {
   "cell_type": "code",
   "execution_count": 41,
   "metadata": {
    "collapsed": false
   },
   "outputs": [],
   "source": [
    "plot_results(results['pNormPot'])"
   ]
  },
  {
   "cell_type": "code",
   "execution_count": 48,
   "metadata": {
    "collapsed": false
   },
   "outputs": [],
   "source": [
    "dd = results['ExpPot'][0].regs_norate['tsavg'][0] / results['ExpPot'][1].regs_norate['tsavg'][0]"
   ]
  },
  {
   "cell_type": "code",
   "execution_count": 49,
   "metadata": {
    "collapsed": false
   },
   "outputs": [
    {
     "data": {
      "text/plain": [
       "[<matplotlib.lines.Line2D at 0x11f663f28>]"
      ]
     },
     "execution_count": 49,
     "metadata": {},
     "output_type": "execute_result"
    }
   ],
   "source": [
    "import matplotlib.pyplot as plt\n",
    "plt.plot(dd)"
   ]
  },
  {
   "cell_type": "markdown",
   "metadata": {},
   "source": [
    "#vs"
   ]
  },
  {
   "cell_type": "code",
   "execution_count": null,
   "metadata": {
    "collapsed": true
   },
   "outputs": [],
   "source": [
    "folder = '/Users/balandat/Documents/Code/Continuous_No-Regret/individ_results/vs'\n",
    "folder = '/Users/balandat/Documents/Code/Continuous_No-Regret/individ_results/u0_9/'\n",
    "# pots = ['pExpPot, $p={1.25}, ', 'pExpPot, $p={1.75}, ',\n",
    "#         'ExpPPot, $p={1.25}, ', 'ExpPPot, $p={1.75}, ']\n",
    "pots = ['pExpPot, $p={1.5}, ']\n",
    "# pots = ['ExpPot', 'pExpPot', 'ExpPPot', 'pNormPot']\n",
    "results = {pot:[] for pot in pots}\n",
    "for pot in pots:\n",
    "    for filename in os.listdir(folder):\n",
    "        if pot == filename[0:len(pot)]:\n",
    "            with open('{}{}'.format(folder, filename), 'rb') as f:\n",
    "                res = pickle.load(f)\n",
    "                res.label = res.label.replace('\\\\', '')\n",
    "                results[pot].append(res)"
   ]
  },
  {
   "cell_type": "code",
   "execution_count": 2,
   "metadata": {
    "collapsed": true
   },
   "outputs": [],
   "source": [
    "with open('/Users/balandat/Documents/Code/eclipse workspace/cont_no_regret/results/ExpPPot, $p={1.25}, gamma={1}$_n2.piggl', 'rb') as f:\n",
    "    r = pickle.load(f)"
   ]
  },
  {
   "cell_type": "code",
   "execution_count": 5,
   "metadata": {
    "collapsed": false
   },
   "outputs": [
    {
     "data": {
      "text/plain": [
       "[<matplotlib.lines.Line2D at 0x10acab5c0>]"
      ]
     },
     "execution_count": 5,
     "metadata": {},
     "output_type": "execute_result"
    }
   ],
   "source": [
    "plt.plot(r.regs_norate['tsavg'][0])"
   ]
  },
  {
   "cell_type": "code",
   "execution_count": 6,
   "metadata": {
    "collapsed": true
   },
   "outputs": [],
   "source": [
    "plt.show()"
   ]
  },
  {
   "cell_type": "code",
   "execution_count": null,
   "metadata": {
    "collapsed": true
   },
   "outputs": [],
   "source": []
  }
 ],
 "metadata": {
  "kernelspec": {
   "display_name": "Python 3",
   "language": "python",
   "name": "python3"
  },
  "language_info": {
   "codemirror_mode": {
    "name": "ipython",
    "version": 3
   },
   "file_extension": ".py",
   "mimetype": "text/x-python",
   "name": "python",
   "nbconvert_exporter": "python",
   "pygments_lexer": "ipython3",
   "version": "3.4.3"
  }
 },
 "nbformat": 4,
 "nbformat_minor": 0
}
