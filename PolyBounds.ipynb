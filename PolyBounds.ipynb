{
 "cells": [
  {
   "cell_type": "code",
   "execution_count": 63,
   "metadata": {
    "collapsed": false
   },
   "outputs": [],
   "source": [
    "# Set up infrastructure and basic problem parameters\n",
    "import multiprocessing as mp\n",
    "import numpy as np\n",
    "import datetime, os\n",
    "from ContNoRegret.Domains import nBox, UnionOfDisjointnBoxes, DifferenceOfnBoxes, unitbox, hollowbox\n",
    "from ContNoRegret.LossFunctions import random_PolynomialLosses, random_AffineLosses, random_QuadraticLosses\n",
    "from ContNoRegret.NoRegretAlgos import ContNoRegretProblem\n",
    "from ContNoRegret.utils import CNR_worker, plot_results, save_results, circular_tour\n",
    "from ContNoRegret.animate import save_animations\n",
    "from ContNoRegret.Potentials import (ExponentialPotential, IdentityPotential, pNormPotential, CompositePotential,\n",
    "                                        ExpPPotential, PExpPotential, HuberPotential, LogtasticPotential, FractionalLinearPotential)\n",
    "\n",
    "import matplotlib.pyplot as plt\n",
    "%matplotlib inline\n",
    "\n",
    "tmpfolder = '/Volumes/tmp/'\n",
    "\n",
    "\n",
    "Nloss = 100\n",
    "T = 250 # Time horizon\n",
    "M = 10.0 # Uniform bound on the function (in the dual norm)\n",
    "L = 5.0 # Uniform bound on the Lipschitz constant\n",
    "N = 2500 # Number of parallel algorithm instances\n",
    "Ngrid = 250000 # Number of gridpoints for the sampling step\n",
    "H = 0.1 # strict convexity parameter (lower bound on evals of Q)\n",
    "\n",
    "dom = unitbox(4)\n",
    "nus = [0.05, 0.25, 1]\n",
    "\n",
    "lossfuncs = random_PolynomialLosses(dom, Nloss, M, L, 4, [0,1,2,3,4])\n",
    "normbounds = {nu: [lossfunc.norm(2/nu, tmpfolder=tmpfolder) for lossfunc in lossfuncs] for nu in nus}\n",
    "Ms = {nu: np.array(normbounds[nu]) for nu in nus}\n",
    "MLs = np.array([lossfunc.max(grad=True) for lossfunc in lossfuncs])\n",
    "Ms['inf'], Ls = MLs[:,0], MLs[:,1] \n"
   ]
  },
  {
   "cell_type": "code",
   "execution_count": 64,
   "metadata": {
    "collapsed": false
   },
   "outputs": [],
   "source": [
    "Cs = {nu: 2*Ms[nu]/np.sqrt(nu*(1+nu)*dom.v**nu) + L*dom.diameter for nu in nus}\n",
    "t = 1+np.arange(T)\n",
    "bounds = {nu:np.array([C*t**(-1/(2+dom.n*nu)) for C in Cs[nu]]) for nu in nus}"
   ]
  },
  {
   "cell_type": "code",
   "execution_count": 69,
   "metadata": {
    "collapsed": false
   },
   "outputs": [
    {
     "data": {
      "text/plain": [
       "[<matplotlib.lines.Line2D at 0x117302c18>,\n",
       " <matplotlib.lines.Line2D at 0x117302f60>,\n",
       " <matplotlib.lines.Line2D at 0x1173097b8>]"
      ]
     },
     "execution_count": 69,
     "metadata": {},
     "output_type": "execute_result"
    },
    {
     "data": {
      "image/png": "[encoded data removed]",
      "text/plain": [
       "<matplotlib.figure.Figure at 0x1172490f0>"
      ]
     },
     "metadata": {},
     "output_type": "display_data"
    }
   ],
   "source": [
    "i = 8\n",
    "plt.plot(t, bounds[0.05][i], t, bounds[0.25][i], t, bounds[1][i], )"
   ]
  },
  {
   "cell_type": "code",
   "execution_count": 77,
   "metadata": {
    "collapsed": false
   },
   "outputs": [],
   "source": [
    "def t_equal(M1, nu1, M2, nu2):\n",
    "    c = lambda M, nu: 2*M/np.sqrt(nu*(1+nu)*dom.v**nu) + L*dom.diameter\n",
    "    return (c(M2, nu2)/c(M1, nu1))**((2+dom.n*nu1)*(2+dom.n*nu2)/dom.n/(nu1-nu2))"
   ]
  },
  {
   "cell_type": "code",
   "execution_count": 78,
   "metadata": {
    "collapsed": false
   },
   "outputs": [
    {
     "data": {
      "text/plain": [
       "265.20234626359877"
      ]
     },
     "execution_count": 78,
     "metadata": {},
     "output_type": "execute_result"
    }
   ],
   "source": [
    "t_equal(Ms[0.05][i], 0.05, Ms[0.25][i], 0.25)"
   ]
  },
  {
   "cell_type": "code",
   "execution_count": 66,
   "metadata": {
    "collapsed": false
   },
   "outputs": [
    {
     "data": {
      "text/plain": [
       "8"
      ]
     },
     "execution_count": 66,
     "metadata": {},
     "output_type": "execute_result"
    }
   ],
   "source": [
    "np.argmin(Cs[1]/Cs[0.05])"
   ]
  },
  {
   "cell_type": "code",
   "execution_count": 60,
   "metadata": {
    "collapsed": false
   },
   "outputs": [
    {
     "data": {
      "text/plain": [
       "(12.410043228194782, 45.1001313559549)"
      ]
     },
     "execution_count": 60,
     "metadata": {},
     "output_type": "execute_result"
    }
   ],
   "source": [
    "Cs[1][34], Cs[0.05][34]"
   ]
  },
  {
   "cell_type": "code",
   "execution_count": null,
   "metadata": {
    "collapsed": true
   },
   "outputs": [],
   "source": []
  }
 ],
 "metadata": {
  "kernelspec": {
   "display_name": "Python 3",
   "language": "python",
   "name": "python3"
  },
  "language_info": {
   "codemirror_mode": {
    "name": "ipython",
    "version": 3
   },
   "file_extension": ".py",
   "mimetype": "text/x-python",
   "name": "python",
   "nbconvert_exporter": "python",
   "pygments_lexer": "ipython3",
   "version": "3.4.3"
  }
 },
 "nbformat": 4,
 "nbformat_minor": 0
}
