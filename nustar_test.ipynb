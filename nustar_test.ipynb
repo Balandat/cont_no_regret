{
 "cells": [
  {
   "cell_type": "code",
   "execution_count": 2,
   "metadata": {
    "collapsed": false
   },
   "outputs": [],
   "source": [
    "from ContNoRegret.Domains import nBox\n",
    "from ContNoRegret.LossFunctions import PolynomialLossFunction, AffineLossFunction\n",
    "from ContNoRegret.DualAveraging import *\n",
    "import numpy as np\n",
    "import ctypes\n",
    "import matplotlib.pyplot as plt\n",
    "%matplotlib inline"
   ]
  },
  {
   "cell_type": "code",
   "execution_count": 3,
   "metadata": {
    "collapsed": false
   },
   "outputs": [],
   "source": [
    "dom = nBox([(0,1), (0,1)])\n",
    "Loss = PolynomialLossFunction(dom, [1, 2, 1], [(2,0), (1,1), (0,2)])\n",
    "Loss.set_bounds([0, 4])\n",
    "# Loss = AffineLossFunction(dom, (1,1), 0)\n",
    "# Loss.set_bounds([0, 2])\n",
    "# potential = CompositeOmegaPotential(gamma=3)\n",
    "potential = pNormPotential(1.5)\n",
    "eta = 0.1"
   ]
  },
  {
   "cell_type": "code",
   "execution_count": 4,
   "metadata": {
    "collapsed": false
   },
   "outputs": [
    {
     "data": {
      "text/plain": [
       "-11.131326442316086"
      ]
     },
     "execution_count": 4,
     "metadata": {},
     "output_type": "execute_result"
    }
   ],
   "source": [
    "nustar(dom, potential, eta, Loss)"
   ]
  },
  {
   "cell_type": "code",
   "execution_count": 10,
   "metadata": {
    "collapsed": false
   },
   "outputs": [],
   "source": [
    "gammas = [1.25, 1.5, 1.75, 2, 2.5, 3, 3.5, 4]\n",
    "nustars = [nustar(dom, CompositeOmegaPotential(gamma), eta, Loss) for gamma in gammas]"
   ]
  },
  {
   "cell_type": "code",
   "execution_count": 10,
   "metadata": {
    "collapsed": true
   },
   "outputs": [],
   "source": [
    "ps = np.linspace(1.05, 2, 10)\n",
    "nustars = [nustar(dom, pNormPotential(p), eta, Loss) for p in ps]"
   ]
  },
  {
   "cell_type": "code",
   "execution_count": 11,
   "metadata": {
    "collapsed": false
   },
   "outputs": [
    {
     "data": {
      "text/plain": [
       "[<matplotlib.lines.Line2D at 0x106902c50>]"
      ]
     },
     "execution_count": 11,
     "metadata": {},
     "output_type": "execute_result"
    },
    {
     "data": {
      "image/png": "[encoded data removed]",
      "text/plain": [
       "<matplotlib.figure.Figure at 0x1067b0080>"
      ]
     },
     "metadata": {},
     "output_type": "display_data"
    }
   ],
   "source": [
    "plt.plot(ps, nustars)"
   ]
  },
  {
   "cell_type": "code",
   "execution_count": 14,
   "metadata": {
    "collapsed": false
   },
   "outputs": [],
   "source": [
    "import numpy as np\n",
    "from ContNoRegret.LossFunctions import AffineLossFunction, PolynomialLossFunction, QuadraticLossFunction\n",
    "from ContNoRegret.Domains import nBox, UnionOfDisjointnBoxes\n",
    "dom = nBox([(0,1), (0,1), (0,1)])\n",
    "dom2 = UnionOfDisjointnBoxes([nBox([(-1,0), (-1,0)]), nBox([(0,1), (0,1)])])\n",
    "loss = AffineLossFunction(dom2, [1,3,5], 1.75)\n",
    "polyloss = PolynomialLossFunction(dom, [1,2,3], [(1,3,1), (2,1,0)])\n",
    "quadloss = QuadraticLossFunction(dom, np.array([0.5, 0.5, 0.5]), np.array([[2,0,0],[0,1,0],[0,0,2]]), 0)"
   ]
  }
 ],
 "metadata": {
  "kernelspec": {
   "display_name": "Python 3",
   "language": "python",
   "name": "python3"
  },
  "language_info": {
   "codemirror_mode": {
    "name": "ipython",
    "version": 3
   },
   "file_extension": ".py",
   "mimetype": "text/x-python",
   "name": "python",
   "nbconvert_exporter": "python",
   "pygments_lexer": "ipython3",
   "version": "3.4.3"
  }
 },
 "nbformat": 4,
 "nbformat_minor": 0
}
