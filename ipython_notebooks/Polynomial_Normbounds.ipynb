{
 "cells": [
  {
   "cell_type": "code",
   "execution_count": 25,
   "metadata": {
    "collapsed": false
   },
   "outputs": [
    {
     "name": "stderr",
     "output_type": "stream",
     "text": [
      "/opt/local/Library/Frameworks/Python.framework/Versions/3.4/lib/python3.4/site-packages/IPython/kernel/__main__.py:36: RuntimeWarning: invalid value encountered in double_scalars\n",
      "/opt/local/Library/Frameworks/Python.framework/Versions/3.4/lib/python3.4/site-packages/IPython/kernel/__main__.py:36: RuntimeWarning: invalid value encountered in double_scalars\n",
      "/opt/local/Library/Frameworks/Python.framework/Versions/3.4/lib/python3.4/site-packages/IPython/kernel/__main__.py:36: RuntimeWarning: invalid value encountered in double_scalars\n"
     ]
    }
   ],
   "source": [
    "# Set up infrastructure and basic problem parameters\n",
    "import multiprocessing as mp\n",
    "import numpy as np\n",
    "import datetime, os\n",
    "from ContNoRegret.NoRegretAlgos import ContNoRegretProblem\n",
    "from ContNoRegret.Domains import nBox, UnionOfDisjointnBoxes, DifferenceOfnBoxes, unitbox, hollowbox\n",
    "from ContNoRegret.LossFunctions import random_PolynomialLosses, random_AffineLosses, random_QuadraticLosses, PolynomialLossFunction\n",
    "from ContNoRegret.NoRegretAlgos import ContNoRegretProblem\n",
    "from ContNoRegret.utils import CNR_worker, plot_results, save_results, circular_tour\n",
    "from ContNoRegret.animate import save_animations\n",
    "from ContNoRegret.Potentials import (ExponentialPotential, IdentityPotential, pNormPotential, CompositePotential,\n",
    "                                        ExpPPotential, pExpPotential, HuberPotential, LogtasticPotential, FractionalLinearPotential)\n",
    "\n",
    "# from ContNoRegret.loss_params import *\n",
    "\n",
    "import matplotlib.pyplot as plt\n",
    "\n",
    "tmpfolder = '/Volumes/tmp/'\n",
    "\n",
    "\n",
    "T = 500 # Time horizon\n",
    "L = 5.0 # Uniform bound on the Lipschitz constant\n",
    "M = 10\n",
    "N = 2500 # Number of parallel algorithm instances\n",
    "Ngrid = 250000 # Number of gridpoints for the sampling step\n",
    "\n",
    "dom = unitbox(2)\n",
    "nus = [0.05, 1]\n",
    "\n",
    "# lossfuncs = []\n",
    "while len(lossfuncs) < T:\n",
    "    tmpfuncs = np.array(random_PolynomialLosses(dom, 10, M, L, 4, [0,1,2,3,4], high_ratio=True))\n",
    "    normbounds = {nu: np.array([lossfunc.norm(2/nu, tmpfolder=tmpfolder) for lossfunc in tmpfuncs]) for nu in nus}\n",
    "    Ms = {nu: np.array(normbounds[nu]) for nu in nus}\n",
    "    for i in range(len(normbounds)):\n",
    "        ratio = normbounds[nus[0]][i]/normbounds[nus[1]][i]\n",
    "        if ratio > 4:\n",
    "            lossfuncs.append(tmpfuncs[i])\n",
    "        \n",
    "\n",
    "# lossfuncs = [PolynomialLossFunction(dom, coeff, expo) for coeff,expo in zip(coeffs,exponents)]\n",
    "# Minf, M2 = np.max(inf_norms), np.max(two_norms)\n",
    "\n",
    "# # create Continuous No-Regret problem\n",
    "# prob = ContNoRegretProblem(dom, lossfuncs, L, Minf, desc='normtest')\n",
    "    \n",
    "# # Select a number of potentials for the Dual Averaging algorithm\n",
    "# potentials = [ExponentialPotential(), pNormPotential(1.05, M=Minf), pNormPotential(2, M=M2)]\n",
    "  \n",
    "# # the following runs fine if the script is the __main__ method, but crashes when running from ipython\n",
    "# pool = mp.Pool(processes=mp.cpu_count()-1)\n",
    "# processes = []\n",
    "\n",
    "# DAkwargs = [{'opt_rate':True, 'Ngrid':Ngrid, 'potential':pot, 'pid':i, \n",
    "#              'tmpfolder':tmpfolder, 'label':pot.desc} for i,pot in enumerate(potentials)]\n",
    "# processes += [pool.apply_async(CNR_worker, (prob, N, 'DA'), kwarg) for kwarg in DAkwargs]\n",
    "\n",
    "# # wait for the processes to finish an collect the results\n",
    "# results = [process.get() for process in processes]\n"
   ]
  },
  {
   "cell_type": "code",
   "execution_count": 26,
   "metadata": {
    "collapsed": false
   },
   "outputs": [
    {
     "data": {
      "text/plain": [
       "500"
      ]
     },
     "execution_count": 26,
     "metadata": {},
     "output_type": "execute_result"
    }
   ],
   "source": [
    "coefficients = [list(lossfunc.coeffs) for lossfunc in lossfuncs]\n",
    "exponents = [list(lossfunc.exponents) for lossfunc in lossfuncs]\n",
    "len(coefficients)"
   ]
  },
  {
   "cell_type": "code",
   "execution_count": 27,
   "metadata": {
    "collapsed": true
   },
   "outputs": [],
   "source": [
    "with open('normbound_params_n2.py', 'w') as f:\n",
    "    f.write('coeffs = {}\\n'.format(coefficients) +'exponents = {}'.format(exponents))"
   ]
  },
  {
   "cell_type": "code",
   "execution_count": 28,
   "metadata": {
    "collapsed": true
   },
   "outputs": [],
   "source": [
    "two_norms = [lossfunc.norm(2,tmpfolder=tmpfolder) for lossfunc in lossfuncs]\n",
    "inf_norms = [lossfunc.max() for lossfunc in lossfuncs]"
   ]
  },
  {
   "cell_type": "code",
   "execution_count": 30,
   "metadata": {
    "collapsed": false
   },
   "outputs": [],
   "source": [
    "with open('normbound_params_n2_norms.py', 'w') as f:\n",
    "    f.write('two_norms = {}\\n'.format(two_norms) +'inf_norms = {}'.format(inf_norms))"
   ]
  },
  {
   "cell_type": "code",
   "execution_count": 7,
   "metadata": {
    "collapsed": false
   },
   "outputs": [],
   "source": [
    "from ContNoRegret.LossFunctions import AffineLossFunction\n",
    "from ContNoRegret.Domains import unitbox\n",
    "dom = unitbox(2)\n",
    "l = AffineLossFunction(dom, [-0.2,0], 0.05)"
   ]
  },
  {
   "cell_type": "code",
   "execution_count": 14,
   "metadata": {
    "collapsed": false
   },
   "outputs": [],
   "source": [
    "L, T = 5, 20\n",
    "lossfuncs = [AffineLossFunction(dom, [(-1)**t*t/T*L, 0], 0.5*t/T*L) for t in range(T)]"
   ]
  },
  {
   "cell_type": "code",
   "execution_count": 21,
   "metadata": {
    "collapsed": false
   },
   "outputs": [
    {
     "data": {
      "text/plain": [
       "array([-3.75,  0.  ])"
      ]
     },
     "execution_count": 21,
     "metadata": {},
     "output_type": "execute_result"
    }
   ],
   "source": [
    "lossfuncs[15].a"
   ]
  },
  {
   "cell_type": "code",
   "execution_count": null,
   "metadata": {
    "collapsed": true
   },
   "outputs": [],
   "source": []
  }
 ],
 "metadata": {
  "kernelspec": {
   "display_name": "Python 3",
   "language": "python",
   "name": "python3"
  },
  "language_info": {
   "codemirror_mode": {
    "name": "ipython",
    "version": 3
   },
   "file_extension": ".py",
   "mimetype": "text/x-python",
   "name": "python",
   "nbconvert_exporter": "python",
   "pygments_lexer": "ipython3",
   "version": "3.4.3"
  }
 },
 "nbformat": 4,
 "nbformat_minor": 0
}
