{
 "cells": [
  {
   "cell_type": "code",
   "execution_count": 1,
   "metadata": {
    "collapsed": false
   },
   "outputs": [
    {
     "name": "stdout",
     "output_type": "stream",
     "text": [
      "/Users/balandat/Documents/Code/eclipse workspace/cont_no_regret\n"
     ]
    }
   ],
   "source": [
    "%cd /Users/balandat/Documents/Code/eclipse workspace/cont_no_regret\n",
    "import ContNoRegret\n",
    "from ContNoRegret.animate import save_animations\n",
    "from ContNoRegret.utils import plot_snapshots\n",
    "import matplotlib\n",
    "import matplotlib.pyplot as plt\n",
    "import pickle"
   ]
  },
  {
   "cell_type": "markdown",
   "metadata": {},
   "source": [
    "# Extracting plotdata"
   ]
  },
  {
   "cell_type": "code",
   "execution_count": 2,
   "metadata": {
    "collapsed": false
   },
   "outputs": [
    {
     "name": "stdout",
     "output_type": "stream",
     "text": [
      "['v=1.00, ExpPot', 'v=0.05, pNormPot, $p={1.5}$', 'v=0.50, pExpPot, $p={1.5}, gamma={4}$', 'v=0.25, pNormPot, $p={1.75}$', 'v=0.50, pNormPot, $p={1.05}$', 'v=0.25, pNormPot, $p={1.5}$', 'v=1.00, pNormPot, $p={1.05}$', 'v=0.25, ExpPot', 'v=0.05, pNormPot, $p={1.05}$', 'v=0.10, pNormPot, $p={1.05}$', 'v=1.00, pExpPot, $p={1.5}, gamma={4}$', 'v=0.10, pNormPot, $p={1.75}$', 'v=0.10, pExpPot, $p={1.5}, gamma={1}$', 'v=0.50, pExpPot, $p={1.5}, gamma={1}$', 'v=0.05, ExpPot', 'v=0.50, pNormPot, $p={1.5}$', 'v=0.10, ExpPot', 'v=1.00, pExpPot, $p={1.5}, gamma={1}$', 'v=0.25, pExpPot, $p={1.5}, gamma={1}$', 'v=0.50, pNormPot, $p={1.75}$', 'v=0.05, pExpPot, $p={1.5}, gamma={1}$', 'v=0.10, pNormPot, $p={1.5}$', 'v=0.25, pNormPot, $p={1.05}$', 'v=1.00, pNormPot, $p={1.75}$', 'v=0.10, pExpPot, $p={1.5}, gamma={4}$', 'v=1.00, pNormPot, $p={1.5}$', 'v=0.25, pExpPot, $p={1.5}, gamma={4}$', 'v=0.50, ExpPot', 'v=0.05, pNormPot, $p={1.75}$', 'v=0.05, pExpPot, $p={1.5}, gamma={4}$']\n"
     ]
    }
   ],
   "source": [
    "folder = '/Users/balandat/Documents/Code/Continuous_No-Regret/results/2015-05-27_08-36/'\n",
    "file = 'NIPS2_CNR_vs_Quadratic.piggl'\n",
    "with open(folder+file, 'rb') as f:\n",
    "    results = pickle.load(f)\n",
    "results = {r.label : r for r in results}\n",
    "print(list(results.keys()))"
   ]
  },
  {
   "cell_type": "code",
   "execution_count": 3,
   "metadata": {
    "collapsed": false
   },
   "outputs": [
    {
     "name": "stderr",
     "output_type": "stream",
     "text": [
      "/opt/local/Library/Frameworks/Python.framework/Versions/3.4/lib/python3.4/site-packages/matplotlib/tight_layout.py:225: UserWarning: tight_layout : falling back to Agg renderer\n",
      "  warnings.warn(\"tight_layout : falling back to Agg renderer\")\n"
     ]
    }
   ],
   "source": [
    "plot_snapshots([val for val in results.values()], [10, 100, 225], show=True, directory=folder, figsize=(16,8),\n",
    "               elev=30, azim=120)"
   ]
  },
  {
   "cell_type": "code",
   "execution_count": 7,
   "metadata": {
    "collapsed": false
   },
   "outputs": [
    {
     "data": {
      "text/plain": [
       "250"
      ]
     },
     "execution_count": 7,
     "metadata": {},
     "output_type": "execute_result"
    }
   ],
   "source": [
    "results['v=0.50, pNormPot, $p={1.75}$'].problem.T"
   ]
  },
  {
   "cell_type": "code",
   "execution_count": null,
   "metadata": {
    "collapsed": false
   },
   "outputs": [],
   "source": [
    "save_animations(results.values(), directory=folder)"
   ]
  }
 ],
 "metadata": {
  "kernelspec": {
   "display_name": "Python 3",
   "language": "python",
   "name": "python3"
  },
  "language_info": {
   "codemirror_mode": {
    "name": "ipython",
    "version": 3
   },
   "file_extension": ".py",
   "mimetype": "text/x-python",
   "name": "python",
   "nbconvert_exporter": "python",
   "pygments_lexer": "ipython3",
   "version": "3.4.3"
  }
 },
 "nbformat": 4,
 "nbformat_minor": 0
}
