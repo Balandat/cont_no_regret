{
 "cells": [
  {
   "cell_type": "code",
   "execution_count": 44,
   "metadata": {
    "collapsed": false
   },
   "outputs": [
    {
     "name": "stdout",
     "output_type": "stream",
     "text": [
      "v=0.10, ExpPot_n2.piggl                        v=0.25, pNormPot, $p={1.5}, u_0={1}$_n2.piggl  v=0.75, FracLinPot, $\\gamma={2}$_n2.piggl\r\n",
      "v=0.10, FracLinPot, $\\gamma={2}$_n2.piggl      v=0.50, ExpPot_n2.piggl                        v=0.75, pNormPot, $p={1.5}, u_0={1}$_n2.piggl\r\n",
      "v=0.10, pNormPot, $p={1.5}, u_0={1}$_n2.piggl  v=0.50, FracLinPot, $\\gamma={2}$_n2.piggl      v=1.00, ExpPot_n2.piggl\r\n",
      "v=0.25, ExpPot_n2.piggl                        v=0.50, pNormPot, $p={1.5}, u_0={1}$_n2.piggl  v=1.00, FracLinPot, $\\gamma={2}$_n2.piggl\r\n",
      "v=0.25, FracLinPot, $\\gamma={2}$_n2.piggl      v=0.75, ExpPot_n2.piggl                        v=1.00, pNormPot, $p={1.5}, u_0={1}$_n2.piggl\r\n"
     ]
    }
   ],
   "source": [
    "import ContNoRegret\n",
    "from ContNoRegret.utils import plot_results\n",
    "import matplotlib\n",
    "import pickle\n",
    "%ls results"
   ]
  },
  {
   "cell_type": "code",
   "execution_count": 45,
   "metadata": {
    "collapsed": true
   },
   "outputs": [],
   "source": [
    "results = {}\n",
    "names = ['ExpPot', 'pNormPot, $p={1.5}, u_0={1}$', 'FracLinPot, $\\gamma={2}$']\n",
    "vs = [0.10, 0.25, 0.50, 0.75, 1.00]\n",
    "n = 2"
   ]
  },
  {
   "cell_type": "code",
   "execution_count": 46,
   "metadata": {
    "collapsed": false
   },
   "outputs": [],
   "source": [
    "for name in names:\n",
    "    results[name] = []\n",
    "    for v in vs:\n",
    "        with open('/Users/balandat/Documents/cont_no_regret/results/v={0:.2f}, {1}_n{2}.piggl'.format(v,name,n), 'rb') as f:\n",
    "            results[name].append(pickle.load(f))"
   ]
  },
  {
   "cell_type": "code",
   "execution_count": 49,
   "metadata": {
    "collapsed": false
   },
   "outputs": [],
   "source": [
    "plot_results(results[names[1]])"
   ]
  },
  {
   "cell_type": "code",
   "execution_count": null,
   "metadata": {
    "collapsed": true
   },
   "outputs": [],
   "source": []
  }
 ],
 "metadata": {
  "kernelspec": {
   "display_name": "Python 3",
   "language": "python",
   "name": "python3"
  },
  "language_info": {
   "codemirror_mode": {
    "name": "ipython",
    "version": 3
   },
   "file_extension": ".py",
   "mimetype": "text/x-python",
   "name": "python",
   "nbconvert_exporter": "python",
   "pygments_lexer": "ipython3",
   "version": "3.4.3"
  }
 },
 "nbformat": 4,
 "nbformat_minor": 0
}
