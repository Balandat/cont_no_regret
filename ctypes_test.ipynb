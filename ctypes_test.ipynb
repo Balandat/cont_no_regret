{
 "cells": [
  {
   "cell_type": "code",
   "execution_count": 1,
   "metadata": {
    "collapsed": false
   },
   "outputs": [],
   "source": [
    "import ctypes"
   ]
  },
  {
   "cell_type": "code",
   "execution_count": 2,
   "metadata": {
    "collapsed": true
   },
   "outputs": [],
   "source": [
    "n = 2\n",
    "m = 3\n",
    "c = (1.0, 1.0, 1.0)\n",
    "e = (1.0, 0.0, 0.0, 1.0, 2.0, 0.0)\n",
    "x = (2.0, 0.75) "
   ]
  },
  {
   "cell_type": "code",
   "execution_count": 3,
   "metadata": {
    "collapsed": false
   },
   "outputs": [],
   "source": [
    "c_type = ctypes.c_double*m\n",
    "e_type = ctypes.c_double*(m*n)\n",
    "x_type = ctypes.c_double*n"
   ]
  },
  {
   "cell_type": "code",
   "execution_count": 4,
   "metadata": {
    "collapsed": false
   },
   "outputs": [],
   "source": [
    "lib = ctypes.CDLL('polynomial/poly_phi.dylib')\n",
    "poly = lib.poly\n",
    "poly.argtypes = (ctypes.c_int, ctypes.c_int, c_type, e_type, x_type)\n",
    "poly.restype = ctypes.c_double"
   ]
  },
  {
   "cell_type": "code",
   "execution_count": 5,
   "metadata": {
    "collapsed": true
   },
   "outputs": [],
   "source": [
    "def pypoly(n, m, c, e, x):\n",
    "    result = 0\n",
    "    for i in range(m):\n",
    "        mono = 1\n",
    "        for j in range(n):\n",
    "            mono = mono*x[j]**e[i*n+j]\n",
    "        result = result + c[i]*mono\n",
    "    return result"
   ]
  },
  {
   "cell_type": "code",
   "execution_count": 6,
   "metadata": {
    "collapsed": false
   },
   "outputs": [
    {
     "name": "stdout",
     "output_type": "stream",
     "text": [
      "The slowest run took 6.64 times longer than the fastest. This could mean that an intermediate result is being cached \n",
      "100000 loops, best of 3: 5.86 µs per loop\n"
     ]
    }
   ],
   "source": [
    "%timeit poly(ctypes.c_int(n), ctypes.c_int(m), c_type(*c), e_type(*e), x_type(*x))"
   ]
  },
  {
   "cell_type": "code",
   "execution_count": 18,
   "metadata": {
    "collapsed": false
   },
   "outputs": [
    {
     "name": "stdout",
     "output_type": "stream",
     "text": [
      "100000 loops, best of 3: 3.64 µs per loop\n"
     ]
    }
   ],
   "source": [
    "%timeit pypoly(n, m, c, e, x)"
   ]
  },
  {
   "cell_type": "code",
   "execution_count": 27,
   "metadata": {
    "collapsed": true
   },
   "outputs": [],
   "source": [
    "lib2 = ctypes.CDLL('polynomial/poly_phi2.dylib')\n",
    "phi = lib2.phi_poly\n",
    "N = n+m+m*n+4\n",
    "args_type = ctypes.c_double*N\n",
    "phi.argtypes = (ctypes.c_int, args_type)\n",
    "phi.restype = ctypes.c_double"
   ]
  },
  {
   "cell_type": "code",
   "execution_count": 28,
   "metadata": {
    "collapsed": true
   },
   "outputs": [],
   "source": [
    "eta = 0.5\n",
    "nu = 1.0"
   ]
  },
  {
   "cell_type": "code",
   "execution_count": 29,
   "metadata": {
    "collapsed": false
   },
   "outputs": [],
   "source": [
    "args = x + c + e + (eta, nu, m, n)"
   ]
  },
  {
   "cell_type": "code",
   "execution_count": 31,
   "metadata": {
    "collapsed": false
   },
   "outputs": [
    {
     "name": "stdout",
     "output_type": "stream",
     "text": [
      "The slowest run took 4.71 times longer than the fastest. This could mean that an intermediate result is being cached \n",
      "100000 loops, best of 3: 5.25 µs per loop\n"
     ]
    }
   ],
   "source": [
    "%timeit phi(ctypes.c_int(N), args_type(*args))"
   ]
  },
  {
   "cell_type": "code",
   "execution_count": 24,
   "metadata": {
    "collapsed": false
   },
   "outputs": [
    {
     "data": {
      "text/plain": [
       "(2.0, 0.75, 1.0, 1.0, 1.0, 1.0, 0.0, 0.0, 1.0, 2.0, 0.0, 0.5, 1.0, 3, 2)"
      ]
     },
     "execution_count": 24,
     "metadata": {},
     "output_type": "execute_result"
    }
   ],
   "source": [
    "args"
   ]
  },
  {
   "cell_type": "code",
   "execution_count": null,
   "metadata": {
    "collapsed": true
   },
   "outputs": [],
   "source": []
  }
 ],
 "metadata": {
  "kernelspec": {
   "display_name": "Python 3",
   "language": "python",
   "name": "python3"
  },
  "language_info": {
   "codemirror_mode": {
    "name": "ipython",
    "version": 3
   },
   "file_extension": ".py",
   "mimetype": "text/x-python",
   "name": "python",
   "nbconvert_exporter": "python",
   "pygments_lexer": "ipython3",
   "version": "3.4.3"
  }
 },
 "nbformat": 4,
 "nbformat_minor": 0
}
