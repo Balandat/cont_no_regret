{
 "cells": [
  {
   "cell_type": "code",
   "execution_count": 12,
   "metadata": {
    "collapsed": false
   },
   "outputs": [],
   "source": [
    "import ctypes\n",
    "import numpy as np"
   ]
  },
  {
   "cell_type": "code",
   "execution_count": 13,
   "metadata": {
    "collapsed": true
   },
   "outputs": [],
   "source": [
    "n = 2\n",
    "m = 3\n",
    "c = (1.0, 1.0, 1.0)\n",
    "e = (1.0, 0.0, 0.0, 1.0, 2.0, 0.0)\n",
    "x = (2.0, 0.75)\n",
    "eta = 0.01\n",
    "nu = 0.0\n",
    "gamma = 2"
   ]
  },
  {
   "cell_type": "code",
   "execution_count": 14,
   "metadata": {
    "collapsed": false
   },
   "outputs": [],
   "source": [
    "c_type = ctypes.c_double*m\n",
    "e_type = ctypes.c_double*(m*n)\n",
    "x_type = ctypes.c_double*n"
   ]
  },
  {
   "cell_type": "code",
   "execution_count": 15,
   "metadata": {
    "collapsed": true
   },
   "outputs": [],
   "source": [
    "def pypoly(n, m, c, e, x):\n",
    "    result = 0\n",
    "    for i in range(m):\n",
    "        mono = 1\n",
    "        for j in range(n):\n",
    "            mono = mono*x[j]**e[i*n+j]\n",
    "        result = result + c[i]*mono\n",
    "    return result"
   ]
  },
  {
   "cell_type": "code",
   "execution_count": 16,
   "metadata": {
    "collapsed": false
   },
   "outputs": [],
   "source": [
    "lib = ctypes.CDLL('libs/integration.dylib')\n",
    "# cpoly = lib.poly_ctypes\n",
    "N = n+m+m*n+5\n",
    "args_type = ctypes.c_double*N\n",
    "# cpoly.argtypes = (ctypes.c_int, args_type)\n",
    "# cpoly.restype = ctypes.c_double"
   ]
  },
  {
   "cell_type": "code",
   "execution_count": 6,
   "metadata": {
    "collapsed": false
   },
   "outputs": [
    {
     "data": {
      "text/plain": [
       "6.75"
      ]
     },
     "execution_count": 6,
     "metadata": {},
     "output_type": "execute_result"
    }
   ],
   "source": [
    "pypoly(n, m, c, e, x)"
   ]
  },
  {
   "cell_type": "code",
   "execution_count": 17,
   "metadata": {
    "collapsed": false
   },
   "outputs": [],
   "source": [
    "args = x + c + e + (m, n, eta, nu, gamma)\n",
    "# cpoly(ctypes.c_int(N), args_type(*args))"
   ]
  },
  {
   "cell_type": "code",
   "execution_count": 20,
   "metadata": {
    "collapsed": false
   },
   "outputs": [
    {
     "data": {
      "text/plain": [
       "0.9347277206160275"
      ]
     },
     "execution_count": 20,
     "metadata": {},
     "output_type": "execute_result"
    }
   ],
   "source": [
    "exp_poly = lib.exp_poly\n",
    "exp_poly.argtypes = (ctypes.c_int, args_type)\n",
    "exp_poly.restype = ctypes.c_double\n",
    "exp_poly(ctypes.c_int(N), args_type(*args))"
   ]
  },
  {
   "cell_type": "code",
   "execution_count": 21,
   "metadata": {
    "collapsed": false
   },
   "outputs": [
    {
     "data": {
      "text/plain": [
       "0.93472772061602749"
      ]
     },
     "execution_count": 21,
     "metadata": {},
     "output_type": "execute_result"
    }
   ],
   "source": [
    "np.exp(-eta*(pypoly(n, m, c, e, x)) + nu)"
   ]
  },
  {
   "cell_type": "code",
   "execution_count": 8,
   "metadata": {
    "collapsed": true
   },
   "outputs": [],
   "source": [
    "czp = lib.composite_potential\n",
    "czp.argtypes = (ctypes.c_double, ctypes.c_double)\n",
    "czp.restype = ctypes.c_double"
   ]
  },
  {
   "cell_type": "code",
   "execution_count": 11,
   "metadata": {
    "collapsed": false
   },
   "outputs": [
    {
     "data": {
      "text/plain": [
       "1.0"
      ]
     },
     "execution_count": 11,
     "metadata": {},
     "output_type": "execute_result"
    }
   ],
   "source": [
    "czp(ctypes.c_double(2), ctypes.c_double(1.5))"
   ]
  },
  {
   "cell_type": "code",
   "execution_count": 19,
   "metadata": {
    "collapsed": false
   },
   "outputs": [
    {
     "data": {
      "text/plain": [
       "0.23394241215096892"
      ]
     },
     "execution_count": 19,
     "metadata": {},
     "output_type": "execute_result"
    }
   ],
   "source": [
    "cpp = lib.composite_poly\n",
    "cpp.argtypes = (ctypes.c_int, args_type)\n",
    "cpp.restype = ctypes.c_double\n",
    "cpp(ctypes.c_int(N), args_type(*args))"
   ]
  },
  {
   "cell_type": "code",
   "execution_count": 20,
   "metadata": {
    "collapsed": false
   },
   "outputs": [
    {
     "name": "stdout",
     "output_type": "stream",
     "text": [
      "The slowest run took 4.24 times longer than the fastest. This could mean that an intermediate result is being cached \n",
      "100000 loops, best of 3: 6.14 µs per loop\n"
     ]
    }
   ],
   "source": [
    "%timeit cpp(ctypes.c_int(N), args_type(*args))"
   ]
  },
  {
   "cell_type": "code",
   "execution_count": null,
   "metadata": {
    "collapsed": true
   },
   "outputs": [],
   "source": []
  }
 ],
 "metadata": {
  "kernelspec": {
   "display_name": "Python 3",
   "language": "python",
   "name": "python3"
  },
  "language_info": {
   "codemirror_mode": {
    "name": "ipython",
    "version": 3
   },
   "file_extension": ".py",
   "mimetype": "text/x-python",
   "name": "python",
   "nbconvert_exporter": "python",
   "pygments_lexer": "ipython3",
   "version": "3.4.3"
  }
 },
 "nbformat": 4,
 "nbformat_minor": 0
}
