{
 "cells": [
  {
   "cell_type": "code",
   "execution_count": 13,
   "metadata": {
    "collapsed": false
   },
   "outputs": [
    {
     "name": "stdout",
     "output_type": "stream",
     "text": [
      "Simulating DA, ExpPot (HEDGE), opt. rate eta_t=0.127 sqrt(log t/t)\n",
      "pid 0: Starting...\n",
      "pid 0: t=25\n",
      "pid 0: t=50\n",
      "pid 0: t=75\n"
     ]
    }
   ],
   "source": [
    "# Set up infrastructure and basic problem parameters\n",
    "import multiprocessing as mp\n",
    "import numpy as np\n",
    "import datetime, os\n",
    "from ContNoRegret.Domains import nBox, UnionOfDisjointnBoxes, DifferenceOfnBoxes, unitbox, hollowbox\n",
    "from ContNoRegret.LossFunctions import random_PolynomialLosses\n",
    "from ContNoRegret.NoRegretAlgos import ContNoRegretProblem\n",
    "from ContNoRegret.utils import CNR_worker, plot_results, save_results, circular_tour\n",
    "from ContNoRegret.animate import save_animations\n",
    "from ContNoRegret.Potentials import (ExponentialPotential, IdentityPotential, pNormPotential, CompositePotential,\n",
    "                                        ExpPPotential, PExpPotential, HuberPotential, LogtasticPotential, FractionalLinearPotential)\n",
    "\n",
    "# this is the location of the folder for the results\n",
    "results_path = '/Users/balandat/Documents/Code/Continuous_No-Regret/results/'\n",
    "desc = 'NIPS2_CNR_ConvQuad'\n",
    "tmpfolder = '/Volumes/tmp/' # if possible, choose this to be a RamDisk\n",
    "\n",
    "# some flags for keeping a record of the simulation parameters\n",
    "save_res = True\n",
    "show_plots = True\n",
    "save_anims = True\n",
    "show_anims = False\n",
    "\n",
    "T = 100 # Time horizon\n",
    "M = 10.0 # Uniform bound on the function (in the dual norm)\n",
    "L = 5.0 # Uniform bound on the Lipschitz constant\n",
    "N = 2500 # Number of parallel algorithm instances\n",
    "Ngrid = 250000 # Number of gridpoints for the sampling step\n",
    "H = 0.1 # strict convexity parameter (lower bound on evals of Q)\n",
    "dom = hollowbox(2)\n",
    "    \n",
    "# # Now create some random loss functions\n",
    "lossfuncs = random_PolynomialLosses(dom, T, M, L, 3, [0,1,2,3])\n",
    "\n",
    "# # compute bounds on the norms\n",
    "# normbounds = {'{}'.format(p): [lossfunc.norm(p, tmpfolder=tmpfolder) for lossfunc in lossfuncs] for p in [1,2,np.Infinity]}\n",
    "# normmax = {key:np.max(val) for key,val in normbounds.items()}\n",
    "# print(normmax)\n",
    "   \n",
    "# create Continuous No-Regret problem\n",
    "prob = ContNoRegretProblem(dom, lossfuncs, L, M, desc=desc)\n",
    "  \n",
    "# Select a number of potentials for the Dual Averaging algorithm\n",
    "potentials = [ExponentialPotential()]#, pNormPotential(1.25), pNormPotential(1.75)]\n",
    "  \n",
    "# the following runs fine if the script is the __main__ method, but crashes when running from ipython\n",
    "pool = mp.Pool(processes=mp.cpu_count()-1)\n",
    "processes = []\n",
    "\n",
    "DAkwargs = [{'opt_rate':True, 'Ngrid':Ngrid, 'potential':pot, 'pid':i, \n",
    "             'tmpfolder':tmpfolder, 'label':pot.desc} for i,pot in enumerate(potentials)]\n",
    "processes += [pool.apply_async(CNR_worker, (prob, N, 'DA'), kwarg) for kwarg in DAkwargs]\n",
    "    \n",
    "# GPkwargs = {'Ngrid':Ngrid, 'pid':len(processes), 'tmpfolder':tmpfolder, 'label':'GP'}\n",
    "# processes.append(pool.apply_async(CNR_worker, (prob, N, 'GP'), GPkwargs))\n",
    "  \n",
    "# OGDkwargs = {'H':H, 'Ngrid':Ngrid, 'pid':len(processes), 'tmpfolder':tmpfolder, 'label':'OGD'}\n",
    "# processes.append(pool.apply_async(CNR_worker, (prob, N, 'OGD'), OGDkwargs))\n",
    "#   \n",
    "# ONSkwargs = {'alpha':alpha_ec, 'Ngrid':Ngrid, 'pid':len(processes), 'tmpfolder':tmpfolder, 'label':'ONS'}\n",
    "# processes.append(pool.apply_async(CNR_worker, (prob, N, 'ONS'), ONSkwargs)) \n",
    "#  \n",
    "# FTALkwargs = {'alpha':alpha_ec, 'Ngrid':Ngrid, 'pid':len(processes), 'tmpfolder':tmpfolder, 'label':'FTAL'}\n",
    "# processes.append(pool.apply_async(CNR_worker, (prob, N, 'FTAL'), FTALkwargs))\n",
    "# \n",
    "# EWOOkwargs = {'alpha':alpha_ec, 'Ngrid':Ngrid, 'pid':len(processes), 'tmpfolder':tmpfolder, 'label':'EWOO'}\n",
    "# processes.append(pool.apply_async(CNR_worker, (prob, N, 'EWOO'), EWOOkwargs))\n",
    "\n",
    "# wait for the processes to finish an collect the results\n",
    "results = [process.get() for process in processes]"
   ]
  },
  {
   "cell_type": "code",
   "execution_count": 38,
   "metadata": {
    "collapsed": false
   },
   "outputs": [],
   "source": [
    "data = results[0].problem.data"
   ]
  },
  {
   "cell_type": "code",
   "execution_count": 47,
   "metadata": {
    "collapsed": false
   },
   "outputs": [],
   "source": [
    "d0 = data[0]"
   ]
  },
  {
   "cell_type": "code",
   "execution_count": 49,
   "metadata": {
    "collapsed": false
   },
   "outputs": [],
   "source": [
    "d0flat = np.array(d0)"
   ]
  },
  {
   "cell_type": "code",
   "execution_count": 62,
   "metadata": {
    "collapsed": false
   },
   "outputs": [
    {
     "data": {
      "text/plain": [
       "0.99999999999999956"
      ]
     },
     "execution_count": 62,
     "metadata": {},
     "output_type": "execute_result"
    }
   ],
   "source": [
    "np.min([np.min([np.min(df) for df in dflat]) for dflat in d0])"
   ]
  },
  {
   "cell_type": "code",
   "execution_count": 37,
   "metadata": {
    "collapsed": false
   },
   "outputs": [
    {
     "ename": "ValueError",
     "evalue": "The truth value of an array with more than one element is ambiguous. Use a.any() or a.all()",
     "output_type": "error",
     "traceback": [
      "\u001b[0;31m---------------------------------------------------------------------------\u001b[0m",
      "\u001b[0;31mValueError\u001b[0m                                Traceback (most recent call last)",
      "\u001b[0;32m<ipython-input-37-4b51eabc4659>\u001b[0m in \u001b[0;36m<module>\u001b[0;34m()\u001b[0m\n\u001b[0;32m----> 1\u001b[0;31m \u001b[0mnp\u001b[0m\u001b[0;34m.\u001b[0m\u001b[0mmax\u001b[0m\u001b[0;34m(\u001b[0m\u001b[0mpp\u001b[0m\u001b[0;34m)\u001b[0m\u001b[0;34m\u001b[0m\u001b[0m\n\u001b[0m",
      "\u001b[0;32m/opt/local/Library/Frameworks/Python.framework/Versions/3.4/lib/python3.4/site-packages/numpy/core/fromnumeric.py\u001b[0m in \u001b[0;36mamax\u001b[0;34m(a, axis, out, keepdims)\u001b[0m\n\u001b[1;32m   2138\u001b[0m     \u001b[0;32melse\u001b[0m\u001b[0;34m:\u001b[0m\u001b[0;34m\u001b[0m\u001b[0m\n\u001b[1;32m   2139\u001b[0m         return _methods._amax(a, axis=axis,\n\u001b[0;32m-> 2140\u001b[0;31m                             out=out, keepdims=keepdims)\n\u001b[0m\u001b[1;32m   2141\u001b[0m \u001b[0;34m\u001b[0m\u001b[0m\n\u001b[1;32m   2142\u001b[0m \u001b[0;32mdef\u001b[0m \u001b[0mamin\u001b[0m\u001b[0;34m(\u001b[0m\u001b[0ma\u001b[0m\u001b[0;34m,\u001b[0m \u001b[0maxis\u001b[0m\u001b[0;34m=\u001b[0m\u001b[0;32mNone\u001b[0m\u001b[0;34m,\u001b[0m \u001b[0mout\u001b[0m\u001b[0;34m=\u001b[0m\u001b[0;32mNone\u001b[0m\u001b[0;34m,\u001b[0m \u001b[0mkeepdims\u001b[0m\u001b[0;34m=\u001b[0m\u001b[0;32mFalse\u001b[0m\u001b[0;34m)\u001b[0m\u001b[0;34m:\u001b[0m\u001b[0;34m\u001b[0m\u001b[0m\n",
      "\u001b[0;32m/opt/local/Library/Frameworks/Python.framework/Versions/3.4/lib/python3.4/site-packages/numpy/core/_methods.py\u001b[0m in \u001b[0;36m_amax\u001b[0;34m(a, axis, out, keepdims)\u001b[0m\n\u001b[1;32m     24\u001b[0m \u001b[0;31m# small reductions\u001b[0m\u001b[0;34m\u001b[0m\u001b[0;34m\u001b[0m\u001b[0m\n\u001b[1;32m     25\u001b[0m \u001b[0;32mdef\u001b[0m \u001b[0m_amax\u001b[0m\u001b[0;34m(\u001b[0m\u001b[0ma\u001b[0m\u001b[0;34m,\u001b[0m \u001b[0maxis\u001b[0m\u001b[0;34m=\u001b[0m\u001b[0;32mNone\u001b[0m\u001b[0;34m,\u001b[0m \u001b[0mout\u001b[0m\u001b[0;34m=\u001b[0m\u001b[0;32mNone\u001b[0m\u001b[0;34m,\u001b[0m \u001b[0mkeepdims\u001b[0m\u001b[0;34m=\u001b[0m\u001b[0;32mFalse\u001b[0m\u001b[0;34m)\u001b[0m\u001b[0;34m:\u001b[0m\u001b[0;34m\u001b[0m\u001b[0m\n\u001b[0;32m---> 26\u001b[0;31m     \u001b[0;32mreturn\u001b[0m \u001b[0mumr_maximum\u001b[0m\u001b[0;34m(\u001b[0m\u001b[0ma\u001b[0m\u001b[0;34m,\u001b[0m \u001b[0maxis\u001b[0m\u001b[0;34m,\u001b[0m \u001b[0;32mNone\u001b[0m\u001b[0;34m,\u001b[0m \u001b[0mout\u001b[0m\u001b[0;34m,\u001b[0m \u001b[0mkeepdims\u001b[0m\u001b[0;34m)\u001b[0m\u001b[0;34m\u001b[0m\u001b[0m\n\u001b[0m\u001b[1;32m     27\u001b[0m \u001b[0;34m\u001b[0m\u001b[0m\n\u001b[1;32m     28\u001b[0m \u001b[0;32mdef\u001b[0m \u001b[0m_amin\u001b[0m\u001b[0;34m(\u001b[0m\u001b[0ma\u001b[0m\u001b[0;34m,\u001b[0m \u001b[0maxis\u001b[0m\u001b[0;34m=\u001b[0m\u001b[0;32mNone\u001b[0m\u001b[0;34m,\u001b[0m \u001b[0mout\u001b[0m\u001b[0;34m=\u001b[0m\u001b[0;32mNone\u001b[0m\u001b[0;34m,\u001b[0m \u001b[0mkeepdims\u001b[0m\u001b[0;34m=\u001b[0m\u001b[0;32mFalse\u001b[0m\u001b[0;34m)\u001b[0m\u001b[0;34m:\u001b[0m\u001b[0;34m\u001b[0m\u001b[0m\n",
      "\u001b[0;31mValueError\u001b[0m: The truth value of an array with more than one element is ambiguous. Use a.any() or a.all()"
     ]
    }
   ],
   "source": [
    "np.max(pp)"
   ]
  },
  {
   "cell_type": "code",
   "execution_count": 1,
   "metadata": {
    "collapsed": true
   },
   "outputs": [],
   "source": [
    "from ContNoRegret.Domains import hollowbox\n",
    "from ContNoRegret.utils import circular_tour"
   ]
  },
  {
   "cell_type": "code",
   "execution_count": 2,
   "metadata": {
    "collapsed": false
   },
   "outputs": [
    {
     "data": {
      "text/plain": [
       "array([[-0.60355339, -0.60355339],\n",
       "       [-0.55325727, -0.60355339],\n",
       "       [-0.50296116, -0.60355339],\n",
       "       [-0.45266504, -0.60355339],\n",
       "       [-0.40236893, -0.60355339],\n",
       "       [-0.35207281, -0.60355339],\n",
       "       [-0.3017767 , -0.60355339],\n",
       "       [-0.25148058, -0.60355339],\n",
       "       [-0.20118446, -0.60355339],\n",
       "       [-0.15088835, -0.60355339],\n",
       "       [-0.10059223, -0.60355339],\n",
       "       [-0.05029612, -0.60355339],\n",
       "       [ 0.        , -0.60355339],\n",
       "       [ 0.05029612, -0.60355339],\n",
       "       [ 0.10059223, -0.60355339],\n",
       "       [ 0.15088835, -0.60355339],\n",
       "       [ 0.20118446, -0.60355339],\n",
       "       [ 0.25148058, -0.60355339],\n",
       "       [ 0.3017767 , -0.60355339],\n",
       "       [ 0.35207281, -0.60355339],\n",
       "       [ 0.40236893, -0.60355339],\n",
       "       [ 0.45266504, -0.60355339],\n",
       "       [ 0.50296116, -0.60355339],\n",
       "       [ 0.55325727, -0.60355339],\n",
       "       [ 0.60355339, -0.60355339],\n",
       "       [ 0.60355339, -0.60355339],\n",
       "       [ 0.60355339, -0.55325727],\n",
       "       [ 0.60355339, -0.50296116],\n",
       "       [ 0.60355339, -0.45266504],\n",
       "       [ 0.60355339, -0.40236893],\n",
       "       [ 0.60355339, -0.35207281],\n",
       "       [ 0.60355339, -0.3017767 ],\n",
       "       [ 0.60355339, -0.25148058],\n",
       "       [ 0.60355339, -0.20118446],\n",
       "       [ 0.60355339, -0.15088835],\n",
       "       [ 0.60355339, -0.10059223],\n",
       "       [ 0.60355339, -0.05029612],\n",
       "       [ 0.60355339,  0.        ],\n",
       "       [ 0.60355339,  0.05029612],\n",
       "       [ 0.60355339,  0.10059223],\n",
       "       [ 0.60355339,  0.15088835],\n",
       "       [ 0.60355339,  0.20118446],\n",
       "       [ 0.60355339,  0.25148058],\n",
       "       [ 0.60355339,  0.3017767 ],\n",
       "       [ 0.60355339,  0.35207281],\n",
       "       [ 0.60355339,  0.40236893],\n",
       "       [ 0.60355339,  0.45266504],\n",
       "       [ 0.60355339,  0.50296116],\n",
       "       [ 0.60355339,  0.55325727],\n",
       "       [ 0.60355339,  0.60355339],\n",
       "       [ 0.60355339,  0.60355339],\n",
       "       [ 0.55325727,  0.60355339],\n",
       "       [ 0.50296116,  0.60355339],\n",
       "       [ 0.45266504,  0.60355339],\n",
       "       [ 0.40236893,  0.60355339],\n",
       "       [ 0.35207281,  0.60355339],\n",
       "       [ 0.3017767 ,  0.60355339],\n",
       "       [ 0.25148058,  0.60355339],\n",
       "       [ 0.20118446,  0.60355339],\n",
       "       [ 0.15088835,  0.60355339],\n",
       "       [ 0.10059223,  0.60355339],\n",
       "       [ 0.05029612,  0.60355339],\n",
       "       [ 0.        ,  0.60355339],\n",
       "       [-0.05029612,  0.60355339],\n",
       "       [-0.10059223,  0.60355339],\n",
       "       [-0.15088835,  0.60355339],\n",
       "       [-0.20118446,  0.60355339],\n",
       "       [-0.25148058,  0.60355339],\n",
       "       [-0.3017767 ,  0.60355339],\n",
       "       [-0.35207281,  0.60355339],\n",
       "       [-0.40236893,  0.60355339],\n",
       "       [-0.45266504,  0.60355339],\n",
       "       [-0.50296116,  0.60355339],\n",
       "       [-0.55325727,  0.60355339],\n",
       "       [-0.60355339,  0.60355339],\n",
       "       [-0.60355339,  0.60355339],\n",
       "       [-0.60355339,  0.55325727],\n",
       "       [-0.60355339,  0.50296116],\n",
       "       [-0.60355339,  0.45266504],\n",
       "       [-0.60355339,  0.40236893],\n",
       "       [-0.60355339,  0.35207281],\n",
       "       [-0.60355339,  0.3017767 ],\n",
       "       [-0.60355339,  0.25148058],\n",
       "       [-0.60355339,  0.20118446],\n",
       "       [-0.60355339,  0.15088835],\n",
       "       [-0.60355339,  0.10059223],\n",
       "       [-0.60355339,  0.05029612],\n",
       "       [-0.60355339,  0.        ],\n",
       "       [-0.60355339, -0.05029612],\n",
       "       [-0.60355339, -0.10059223],\n",
       "       [-0.60355339, -0.15088835],\n",
       "       [-0.60355339, -0.20118446],\n",
       "       [-0.60355339, -0.25148058],\n",
       "       [-0.60355339, -0.3017767 ],\n",
       "       [-0.60355339, -0.35207281],\n",
       "       [-0.60355339, -0.40236893],\n",
       "       [-0.60355339, -0.45266504],\n",
       "       [-0.60355339, -0.50296116],\n",
       "       [-0.60355339, -0.55325727],\n",
       "       [-0.60355339, -0.60355339]])"
      ]
     },
     "execution_count": 2,
     "metadata": {},
     "output_type": "execute_result"
    }
   ],
   "source": [
    "circular_tour(hollowbox(2), 100)"
   ]
  },
  {
   "cell_type": "code",
   "execution_count": 3,
   "metadata": {
    "collapsed": true
   },
   "outputs": [],
   "source": [
    "ee = _"
   ]
  },
  {
   "cell_type": "code",
   "execution_count": 4,
   "metadata": {
    "collapsed": false
   },
   "outputs": [
    {
     "data": {
      "text/plain": [
       "(8, 25)"
      ]
     },
     "execution_count": 4,
     "metadata": {},
     "output_type": "execute_result"
    }
   ],
   "source": [
    "ee.shape"
   ]
  },
  {
   "cell_type": "code",
   "execution_count": null,
   "metadata": {
    "collapsed": true
   },
   "outputs": [],
   "source": []
  }
 ],
 "metadata": {
  "kernelspec": {
   "display_name": "Python 3",
   "language": "python",
   "name": "python3"
  },
  "language_info": {
   "codemirror_mode": {
    "name": "ipython",
    "version": 3
   },
   "file_extension": ".py",
   "mimetype": "text/x-python",
   "name": "python",
   "nbconvert_exporter": "python",
   "pygments_lexer": "ipython3",
   "version": "3.4.3"
  }
 },
 "nbformat": 4,
 "nbformat_minor": 0
}
